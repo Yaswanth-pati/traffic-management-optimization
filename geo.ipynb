{
 "cells": [
  {
   "cell_type": "code",
   "execution_count": 3,
   "metadata": {},
   "outputs": [],
   "source": [
    "import pandas as pd\n",
    "import json\n",
    "\n",
    "traffic_data = pd.read_csv(\"traffic-volume-survey.csv\")\n",
    "# Assuming 'data' is your DataFrame containing the entire dataset\n",
    "json_data = traffic_data[['road_name', 'latitude', 'longitude','volume_12h','volume_24h','peakvol','range']]\n",
    "\n",
    "# Convert the DataFrame to a JSON string\n",
    "complete_json_output = json_data.to_json(orient='records')\n",
    "\n",
    "# Specify your desired JSON file path\n",
    "json_file_path = 'traffic_volume_survey.json'\n",
    "\n",
    "# Save the JSON string to a file\n",
    "with open(json_file_path, 'w') as file:\n",
    "    file.write(complete_json_output)\n",
    "\n"
   ]
  }
 ],
 "metadata": {
  "kernelspec": {
   "display_name": "Python 3",
   "language": "python",
   "name": "python3"
  },
  "language_info": {
   "codemirror_mode": {
    "name": "ipython",
    "version": 3
   },
   "file_extension": ".py",
   "mimetype": "text/x-python",
   "name": "python",
   "nbconvert_exporter": "python",
   "pygments_lexer": "ipython3",
   "version": "3.12.2"
  }
 },
 "nbformat": 4,
 "nbformat_minor": 2
}
