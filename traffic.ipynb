{
 "cells": [
  {
   "cell_type": "code",
   "execution_count": 30,
   "metadata": {},
   "outputs": [],
   "source": [
    "import pandas as pd"
   ]
  },
  {
   "cell_type": "code",
   "execution_count": 31,
   "metadata": {},
   "outputs": [],
   "source": [
    "# Load the pollution_dataset\n",
    "traffic_data = pd.read_csv(\"D:/600/traffic project/traffic-volume-survey.csv\")"
   ]
  },
  {
   "cell_type": "code",
   "execution_count": 32,
   "metadata": {},
   "outputs": [
    {
     "data": {
      "text/html": [
       "<div>\n",
       "<style scoped>\n",
       "    .dataframe tbody tr th:only-of-type {\n",
       "        vertical-align: middle;\n",
       "    }\n",
       "\n",
       "    .dataframe tbody tr th {\n",
       "        vertical-align: top;\n",
       "    }\n",
       "\n",
       "    .dataframe thead th {\n",
       "        text-align: right;\n",
       "    }\n",
       "</style>\n",
       "<table border=\"1\" class=\"dataframe\">\n",
       "  <thead>\n",
       "    <tr style=\"text-align: right;\">\n",
       "      <th></th>\n",
       "      <th>geo_point_2d</th>\n",
       "      <th>geo_shape</th>\n",
       "      <th>latitude</th>\n",
       "      <th>longitude</th>\n",
       "      <th>road_name</th>\n",
       "      <th>installed_year</th>\n",
       "      <th>range</th>\n",
       "      <th>type</th>\n",
       "      <th>date</th>\n",
       "      <th>easting</th>\n",
       "      <th>...</th>\n",
       "      <th>projection</th>\n",
       "      <th>postcode</th>\n",
       "      <th>pc85th_kmh</th>\n",
       "      <th>volume_12h</th>\n",
       "      <th>volume_24h</th>\n",
       "      <th>comm_vhcl</th>\n",
       "      <th>peakvol</th>\n",
       "      <th>suburb_name</th>\n",
       "      <th>ward_name</th>\n",
       "      <th>gisfid</th>\n",
       "    </tr>\n",
       "  </thead>\n",
       "  <tbody>\n",
       "    <tr>\n",
       "      <th>0</th>\n",
       "      <td>-38.1216300043, 145.2924700205</td>\n",
       "      <td>{\"coordinates\": [145.2924700205, -38.121630004...</td>\n",
       "      <td>-38.121630</td>\n",
       "      <td>145.292470</td>\n",
       "      <td>ANNABELLA STREET</td>\n",
       "      <td>2022</td>\n",
       "      <td>Between 50km/h and 60km/h</td>\n",
       "      <td>W</td>\n",
       "      <td>2022-08-24</td>\n",
       "      <td>350326</td>\n",
       "      <td>...</td>\n",
       "      <td>MGA2020 zone 55</td>\n",
       "      <td>3977</td>\n",
       "      <td>50.5</td>\n",
       "      <td>546</td>\n",
       "      <td>658</td>\n",
       "      <td>3.15</td>\n",
       "      <td>10.27</td>\n",
       "      <td>CRANBOURNE EAST</td>\n",
       "      <td>BALLA BALLA</td>\n",
       "      <td>506</td>\n",
       "    </tr>\n",
       "    <tr>\n",
       "      <th>1</th>\n",
       "      <td>-38.0790430044, 145.3301540239</td>\n",
       "      <td>{\"coordinates\": [145.3301540239, -38.079043004...</td>\n",
       "      <td>-38.079043</td>\n",
       "      <td>145.330154</td>\n",
       "      <td>ALISMA BOULEVARD</td>\n",
       "      <td>2022</td>\n",
       "      <td>Between 50km/h and 60km/h</td>\n",
       "      <td>W</td>\n",
       "      <td>2022-08-24</td>\n",
       "      <td>353544</td>\n",
       "      <td>...</td>\n",
       "      <td>MGA2020 zone 55</td>\n",
       "      <td>3977</td>\n",
       "      <td>56.8</td>\n",
       "      <td>2790</td>\n",
       "      <td>3708</td>\n",
       "      <td>2.72</td>\n",
       "      <td>10.85</td>\n",
       "      <td>CRANBOURNE NORTH</td>\n",
       "      <td>SPRINGFIELD</td>\n",
       "      <td>514</td>\n",
       "    </tr>\n",
       "    <tr>\n",
       "      <th>2</th>\n",
       "      <td>-38.0973230017, 145.2458930241</td>\n",
       "      <td>{\"coordinates\": [145.2458930241, -38.097323001...</td>\n",
       "      <td>-38.097323</td>\n",
       "      <td>145.245893</td>\n",
       "      <td>QUARTERS BOULEVARD</td>\n",
       "      <td>2022</td>\n",
       "      <td>Less than 30km/h</td>\n",
       "      <td>W</td>\n",
       "      <td>2022-08-24</td>\n",
       "      <td>346192</td>\n",
       "      <td>...</td>\n",
       "      <td>MGA2020 zone 55</td>\n",
       "      <td>3977</td>\n",
       "      <td>27.0</td>\n",
       "      <td>368</td>\n",
       "      <td>402</td>\n",
       "      <td>3.24</td>\n",
       "      <td>16.79</td>\n",
       "      <td>CRANBOURNE WEST</td>\n",
       "      <td>MAYFIELD</td>\n",
       "      <td>517</td>\n",
       "    </tr>\n",
       "    <tr>\n",
       "      <th>3</th>\n",
       "      <td>-37.9748000045, 145.2722920164</td>\n",
       "      <td>{\"coordinates\": [145.2722920164, -37.974800004...</td>\n",
       "      <td>-37.974800</td>\n",
       "      <td>145.272292</td>\n",
       "      <td>HANNA DRIVE</td>\n",
       "      <td>2022</td>\n",
       "      <td>Between 50km/h and 60km/h</td>\n",
       "      <td>W</td>\n",
       "      <td>2022-08-24</td>\n",
       "      <td>348254</td>\n",
       "      <td>...</td>\n",
       "      <td>MGA2020 zone 55</td>\n",
       "      <td>3802</td>\n",
       "      <td>54.2</td>\n",
       "      <td>3661</td>\n",
       "      <td>4293</td>\n",
       "      <td>6.00</td>\n",
       "      <td>21.70</td>\n",
       "      <td>ENDEAVOUR HILLS</td>\n",
       "      <td>FOUR OAKS</td>\n",
       "      <td>520</td>\n",
       "    </tr>\n",
       "    <tr>\n",
       "      <th>4</th>\n",
       "      <td>-38.0443360031, 145.2755090228</td>\n",
       "      <td>{\"coordinates\": [145.2755090228, -38.044336003...</td>\n",
       "      <td>-38.044336</td>\n",
       "      <td>145.275509</td>\n",
       "      <td>CORAL DRIVE</td>\n",
       "      <td>2022</td>\n",
       "      <td>Between 50km/h and 60km/h</td>\n",
       "      <td>W</td>\n",
       "      <td>2022-08-24</td>\n",
       "      <td>348680</td>\n",
       "      <td>...</td>\n",
       "      <td>MGA2020 zone 55</td>\n",
       "      <td>3976</td>\n",
       "      <td>50.0</td>\n",
       "      <td>3244</td>\n",
       "      <td>4017</td>\n",
       "      <td>4.39</td>\n",
       "      <td>11.94</td>\n",
       "      <td>HAMPTON PARK</td>\n",
       "      <td>RIVER GUM</td>\n",
       "      <td>524</td>\n",
       "    </tr>\n",
       "  </tbody>\n",
       "</table>\n",
       "<p>5 rows × 21 columns</p>\n",
       "</div>"
      ],
      "text/plain": [
       "                     geo_point_2d  \\\n",
       "0  -38.1216300043, 145.2924700205   \n",
       "1  -38.0790430044, 145.3301540239   \n",
       "2  -38.0973230017, 145.2458930241   \n",
       "3  -37.9748000045, 145.2722920164   \n",
       "4  -38.0443360031, 145.2755090228   \n",
       "\n",
       "                                           geo_shape   latitude   longitude  \\\n",
       "0  {\"coordinates\": [145.2924700205, -38.121630004... -38.121630  145.292470   \n",
       "1  {\"coordinates\": [145.3301540239, -38.079043004... -38.079043  145.330154   \n",
       "2  {\"coordinates\": [145.2458930241, -38.097323001... -38.097323  145.245893   \n",
       "3  {\"coordinates\": [145.2722920164, -37.974800004... -37.974800  145.272292   \n",
       "4  {\"coordinates\": [145.2755090228, -38.044336003... -38.044336  145.275509   \n",
       "\n",
       "            road_name  installed_year                      range type  \\\n",
       "0    ANNABELLA STREET            2022  Between 50km/h and 60km/h    W   \n",
       "1    ALISMA BOULEVARD            2022  Between 50km/h and 60km/h    W   \n",
       "2  QUARTERS BOULEVARD            2022           Less than 30km/h    W   \n",
       "3         HANNA DRIVE            2022  Between 50km/h and 60km/h    W   \n",
       "4         CORAL DRIVE            2022  Between 50km/h and 60km/h    W   \n",
       "\n",
       "         date  easting  ...       projection postcode  pc85th_kmh  volume_12h  \\\n",
       "0  2022-08-24   350326  ...  MGA2020 zone 55     3977        50.5         546   \n",
       "1  2022-08-24   353544  ...  MGA2020 zone 55     3977        56.8        2790   \n",
       "2  2022-08-24   346192  ...  MGA2020 zone 55     3977        27.0         368   \n",
       "3  2022-08-24   348254  ...  MGA2020 zone 55     3802        54.2        3661   \n",
       "4  2022-08-24   348680  ...  MGA2020 zone 55     3976        50.0        3244   \n",
       "\n",
       "   volume_24h  comm_vhcl  peakvol       suburb_name    ward_name gisfid  \n",
       "0         658       3.15    10.27   CRANBOURNE EAST  BALLA BALLA    506  \n",
       "1        3708       2.72    10.85  CRANBOURNE NORTH  SPRINGFIELD    514  \n",
       "2         402       3.24    16.79   CRANBOURNE WEST     MAYFIELD    517  \n",
       "3        4293       6.00    21.70   ENDEAVOUR HILLS    FOUR OAKS    520  \n",
       "4        4017       4.39    11.94      HAMPTON PARK    RIVER GUM    524  \n",
       "\n",
       "[5 rows x 21 columns]"
      ]
     },
     "execution_count": 32,
     "metadata": {},
     "output_type": "execute_result"
    }
   ],
   "source": [
    "traffic_data.head()"
   ]
  },
  {
   "cell_type": "code",
   "execution_count": 33,
   "metadata": {},
   "outputs": [
    {
     "data": {
      "text/html": [
       "<div>\n",
       "<style scoped>\n",
       "    .dataframe tbody tr th:only-of-type {\n",
       "        vertical-align: middle;\n",
       "    }\n",
       "\n",
       "    .dataframe tbody tr th {\n",
       "        vertical-align: top;\n",
       "    }\n",
       "\n",
       "    .dataframe thead th {\n",
       "        text-align: right;\n",
       "    }\n",
       "</style>\n",
       "<table border=\"1\" class=\"dataframe\">\n",
       "  <thead>\n",
       "    <tr style=\"text-align: right;\">\n",
       "      <th></th>\n",
       "      <th>range</th>\n",
       "      <th>traffic level</th>\n",
       "    </tr>\n",
       "  </thead>\n",
       "  <tbody>\n",
       "    <tr>\n",
       "      <th>0</th>\n",
       "      <td>Between 50km/h and 60km/h</td>\n",
       "      <td>high</td>\n",
       "    </tr>\n",
       "    <tr>\n",
       "      <th>1</th>\n",
       "      <td>Between 50km/h and 60km/h</td>\n",
       "      <td>high</td>\n",
       "    </tr>\n",
       "    <tr>\n",
       "      <th>2</th>\n",
       "      <td>Less than 30km/h</td>\n",
       "      <td>low</td>\n",
       "    </tr>\n",
       "    <tr>\n",
       "      <th>3</th>\n",
       "      <td>Between 50km/h and 60km/h</td>\n",
       "      <td>high</td>\n",
       "    </tr>\n",
       "    <tr>\n",
       "      <th>4</th>\n",
       "      <td>Between 50km/h and 60km/h</td>\n",
       "      <td>high</td>\n",
       "    </tr>\n",
       "  </tbody>\n",
       "</table>\n",
       "</div>"
      ],
      "text/plain": [
       "                       range traffic level\n",
       "0  Between 50km/h and 60km/h          high\n",
       "1  Between 50km/h and 60km/h          high\n",
       "2           Less than 30km/h           low\n",
       "3  Between 50km/h and 60km/h          high\n",
       "4  Between 50km/h and 60km/h          high"
      ]
     },
     "execution_count": 33,
     "metadata": {},
     "output_type": "execute_result"
    }
   ],
   "source": [
    "# Update the function to categorize 'Less than 30km/h' as 'low'\n",
    "def categorize_traffic_level_updated(speed_range):\n",
    "    if speed_range == 'Between 30km/h and 40km/h' or speed_range == 'Less than 30km/h':\n",
    "        return 'low'\n",
    "    elif speed_range == 'Between 40km/h and 50km/h':\n",
    "        return 'moderate'\n",
    "    elif speed_range == 'Between 50km/h and 60km/h':\n",
    "        return 'high'\n",
    "    elif speed_range == 'More than 60km/h':\n",
    "        return 'extremely high'\n",
    "    else:\n",
    "        return 'undefined'  # Just in case there are other undefined categories\n",
    "\n",
    "# Apply the updated categorization\n",
    "traffic_data['traffic level'] = traffic_data['range'].apply(categorize_traffic_level_updated)\n",
    "traffic_data[['range', 'traffic level']].head()\n"
   ]
  },
  {
   "cell_type": "code",
   "execution_count": 34,
   "metadata": {},
   "outputs": [
    {
     "name": "stdout",
     "output_type": "stream",
     "text": [
      "0.9949494949494949\n"
     ]
    }
   ],
   "source": [
    "from sklearn.model_selection import train_test_split\n",
    "from sklearn.ensemble import RandomForestClassifier\n",
    "from sklearn.metrics import classification_report, accuracy_score\n",
    "import joblib\n",
    "\n",
    "#independent and dependent varaibles selection\n",
    "X = traffic_data[['pc85th_kmh', 'volume_12h', 'volume_24h', 'comm_vhcl', 'peakvol']]\n",
    "y = traffic_data['range']  # Target variable\n",
    "\n",
    "#Splitting the data into training and testing sets\n",
    "X_train, X_test, y_train, y_test = train_test_split(X, y, test_size=0.3, random_state=42)\n",
    "\n",
    "# Initialize and train the RandomForestClassifier\n",
    "model = RandomForestClassifier(n_estimators=100, random_state=42)\n",
    "model.fit(X_train, y_train)\n",
    "\n",
    "# Predict on the test set\n",
    "y_pred = model.predict(X_test)\n",
    "\n",
    "# Evaluate the model\n",
    "accuracy = accuracy_score(y_test, y_pred)\n",
    "report = classification_report(y_test, y_pred)\n",
    "\n",
    "# Save the optimized model\n",
    "joblib.dump(model, 'optimized_model.pkl')\n",
    "\n",
    "print(accuracy)\n"
   ]
  },
  {
   "cell_type": "code",
   "execution_count": 35,
   "metadata": {},
   "outputs": [
    {
     "name": "stdout",
     "output_type": "stream",
     "text": [
      "                           precision    recall  f1-score   support\n",
      "\n",
      "Between 30km/h and 40km/h       0.95      1.00      0.98        21\n",
      "Between 40km/h and 50km/h       1.00      1.00      1.00       124\n",
      "Between 50km/h and 60km/h       1.00      0.99      1.00       171\n",
      "         Less than 30km/h       1.00      0.90      0.95        10\n",
      "         More than 60km/h       0.99      1.00      0.99        70\n",
      "\n",
      "                 accuracy                           0.99       396\n",
      "                macro avg       0.99      0.98      0.98       396\n",
      "             weighted avg       1.00      0.99      0.99       396\n",
      "\n"
     ]
    }
   ],
   "source": [
    "print(report)"
   ]
  },
  {
   "cell_type": "code",
   "execution_count": 36,
   "metadata": {},
   "outputs": [
    {
     "name": "stderr",
     "output_type": "stream",
     "text": [
      "c:\\Users\\yaswa\\AppData\\Local\\Programs\\Python\\Python312\\Lib\\site-packages\\sklearn\\linear_model\\_logistic.py:469: ConvergenceWarning: lbfgs failed to converge (status=1):\n",
      "STOP: TOTAL NO. of ITERATIONS REACHED LIMIT.\n",
      "\n",
      "Increase the number of iterations (max_iter) or scale the data as shown in:\n",
      "    https://scikit-learn.org/stable/modules/preprocessing.html\n",
      "Please also refer to the documentation for alternative solver options:\n",
      "    https://scikit-learn.org/stable/modules/linear_model.html#logistic-regression\n",
      "  n_iter_i = _check_optimize_result(\n",
      "c:\\Users\\yaswa\\AppData\\Local\\Programs\\Python\\Python312\\Lib\\site-packages\\sklearn\\metrics\\_classification.py:1509: UndefinedMetricWarning: Precision is ill-defined and being set to 0.0 in labels with no predicted samples. Use `zero_division` parameter to control this behavior.\n",
      "  _warn_prf(average, modifier, f\"{metric.capitalize()} is\", len(result))\n",
      "c:\\Users\\yaswa\\AppData\\Local\\Programs\\Python\\Python312\\Lib\\site-packages\\sklearn\\metrics\\_classification.py:1509: UndefinedMetricWarning: Precision is ill-defined and being set to 0.0 in labels with no predicted samples. Use `zero_division` parameter to control this behavior.\n",
      "  _warn_prf(average, modifier, f\"{metric.capitalize()} is\", len(result))\n",
      "c:\\Users\\yaswa\\AppData\\Local\\Programs\\Python\\Python312\\Lib\\site-packages\\sklearn\\metrics\\_classification.py:1509: UndefinedMetricWarning: Precision is ill-defined and being set to 0.0 in labels with no predicted samples. Use `zero_division` parameter to control this behavior.\n",
      "  _warn_prf(average, modifier, f\"{metric.capitalize()} is\", len(result))\n"
     ]
    }
   ],
   "source": [
    "from sklearn.linear_model import LogisticRegression\n",
    "from sklearn.tree import DecisionTreeClassifier\n",
    "\n",
    "# Train a Logistic Regression model\n",
    "logistic_model = LogisticRegression(max_iter=1000)\n",
    "logistic_model.fit(X_train, y_train)\n",
    "y_pred_logistic = logistic_model.predict(X_test)\n",
    "accuracy_logistic = accuracy_score(y_test, y_pred_logistic)\n",
    "report_logistic = classification_report(y_test, y_pred_logistic)\n",
    "\n",
    "\n",
    "\n",
    "# Train a Decision Tree model\n",
    "decision_tree_model = DecisionTreeClassifier()\n",
    "decision_tree_model.fit(X_train, y_train)\n",
    "y_pred_tree = decision_tree_model.predict(X_test)\n",
    "accuracy_tree = accuracy_score(y_test, y_pred_tree)\n",
    "report_tree = classification_report(y_test, y_pred_tree)\n",
    "\n",
    "\n"
   ]
  },
  {
   "cell_type": "code",
   "execution_count": 37,
   "metadata": {},
   "outputs": [
    {
     "data": {
      "text/plain": [
       "['log_model.pkl']"
      ]
     },
     "execution_count": 37,
     "metadata": {},
     "output_type": "execute_result"
    }
   ],
   "source": [
    "#Saving the logisti model\n",
    "joblib.dump(logistic_model, 'log_model.pkl')"
   ]
  },
  {
   "cell_type": "code",
   "execution_count": 38,
   "metadata": {},
   "outputs": [
    {
     "data": {
      "text/plain": [
       "['dec_model.pkl']"
      ]
     },
     "execution_count": 38,
     "metadata": {},
     "output_type": "execute_result"
    }
   ],
   "source": [
    "#Saving the logisti model\n",
    "joblib.dump(decision_tree_model, 'dec_model.pkl')"
   ]
  },
  {
   "cell_type": "code",
   "execution_count": 39,
   "metadata": {},
   "outputs": [
    {
     "name": "stdout",
     "output_type": "stream",
     "text": [
      "0.43686868686868685\n"
     ]
    }
   ],
   "source": [
    "print(accuracy_logistic)"
   ]
  },
  {
   "cell_type": "code",
   "execution_count": 40,
   "metadata": {},
   "outputs": [
    {
     "name": "stdout",
     "output_type": "stream",
     "text": [
      "                           precision    recall  f1-score   support\n",
      "\n",
      "Between 30km/h and 40km/h       0.00      0.00      0.00        21\n",
      "Between 40km/h and 50km/h       0.36      0.04      0.07       124\n",
      "Between 50km/h and 60km/h       0.44      0.92      0.60       171\n",
      "         Less than 30km/h       0.00      0.00      0.00        10\n",
      "         More than 60km/h       0.39      0.16      0.22        70\n",
      "\n",
      "                 accuracy                           0.44       396\n",
      "                macro avg       0.24      0.22      0.18       396\n",
      "             weighted avg       0.37      0.44      0.32       396\n",
      "\n"
     ]
    }
   ],
   "source": [
    "print(report_logistic)"
   ]
  },
  {
   "cell_type": "code",
   "execution_count": 41,
   "metadata": {},
   "outputs": [
    {
     "name": "stdout",
     "output_type": "stream",
     "text": [
      "1.0\n"
     ]
    }
   ],
   "source": [
    "print(accuracy_tree)"
   ]
  },
  {
   "cell_type": "code",
   "execution_count": 42,
   "metadata": {},
   "outputs": [
    {
     "name": "stdout",
     "output_type": "stream",
     "text": [
      "                           precision    recall  f1-score   support\n",
      "\n",
      "Between 30km/h and 40km/h       1.00      1.00      1.00        21\n",
      "Between 40km/h and 50km/h       1.00      1.00      1.00       124\n",
      "Between 50km/h and 60km/h       1.00      1.00      1.00       171\n",
      "         Less than 30km/h       1.00      1.00      1.00        10\n",
      "         More than 60km/h       1.00      1.00      1.00        70\n",
      "\n",
      "                 accuracy                           1.00       396\n",
      "                macro avg       1.00      1.00      1.00       396\n",
      "             weighted avg       1.00      1.00      1.00       396\n",
      "\n"
     ]
    }
   ],
   "source": [
    "print(report_tree)"
   ]
  }
 ],
 "metadata": {
  "kernelspec": {
   "display_name": "Python 3",
   "language": "python",
   "name": "python3"
  },
  "language_info": {
   "codemirror_mode": {
    "name": "ipython",
    "version": 3
   },
   "file_extension": ".py",
   "mimetype": "text/x-python",
   "name": "python",
   "nbconvert_exporter": "python",
   "pygments_lexer": "ipython3",
   "version": "3.12.2"
  }
 },
 "nbformat": 4,
 "nbformat_minor": 2
}
